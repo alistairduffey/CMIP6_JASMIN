{
 "cells": [
  {
   "cell_type": "markdown",
   "id": "e18441e9-81b2-4c7e-8512-6ae6cef2ad8c",
   "metadata": {},
   "source": [
    "### The cell below creates a new conda environment, installing all the packages defined in the .yml environment file \n",
    "\n",
    "\n",
    "Once the cell below has been run, you should be able to select your new environemt from the drop down list at the top right of the notebook (where it probably currently says \"Python 3 + Jaspy\"). You need to create a .yml file containing a list of packages before you can run the code. You can do this by pasting the example formatted text in the 2nd cell below into a text editor (e.g. notepad) and saving as .yml, then uploading the file into the folder you're running from.\n",
    "\n",
    "__N.B: Edit the environment name (e.g. *my_new_environment*) and the yml file before running__\n",
    "\n",
    "If you need to add any further packages to an environment once you have it set up, you can do this the command in the 3rd cell below. "
   ]
  },
  {
   "cell_type": "code",
   "execution_count": null,
   "id": "01304e8b-4be6-414a-898e-76f64a21d9cb",
   "metadata": {},
   "outputs": [],
   "source": [
    "# create an env, edit the variable name after \"--name\" to change the name (currently \"my_new_environment\")\n",
    "!conda env create --name my_new_environment --file environment.yml\n",
    "\n",
    "#save a record of the environment dependencies. This line is optional but is a good idea for future reference.\n",
    "!conda env export --name my_new_environment --file environment_frozen.yml\n",
    "\n",
    "# Install the environment as an \"ipykernel\" so that the Notebook Service will find it#\n",
    "!conda run -n main python -m ipykernel install --user --name main"
   ]
  },
  {
   "cell_type": "code",
   "execution_count": null,
   "id": "93be4e63-3441-493a-a89a-96c98e8c00d3",
   "metadata": {
    "collapsed": true,
    "jupyter": {
     "outputs_hidden": true
    },
    "tags": []
   },
   "outputs": [
    {
     "data": {
      "text/plain": [
       "'the code block below is an example of the required formatting for the .yml file which lists packages\\n\\n.............\\n\\n\\n\\nname: main\\ndependencies:\\n  - numpy\\n  - pandas\\n  - xarray=0.21.0\\n  - iris\\n  - ipykernel\\n  - matplotlib\\n  - cartopy\\n  - pandas\\n  - cftime\\n  \\n  \\n  \\n.............\\n\\n'"
      ]
     },
     "execution_count": 2,
     "metadata": {},
     "output_type": "execute_result"
    }
   ],
   "source": [
    "\"\"\"the code block below is an example of the required formatting for the .yml file which lists packages\n",
    "\n",
    ".............\n",
    "\n",
    "\n",
    "\n",
    "name: main\n",
    "dependencies:\n",
    "  - numpy\n",
    "  - pandas\n",
    "  - xarray=0.21.0\n",
    "  - iris\n",
    "  - ipykernel\n",
    "  - matplotlib\n",
    "  - cartopy\n",
    "  - pandas\n",
    "  - cftime\n",
    "  \n",
    "  \n",
    "  \n",
    ".............\n",
    "\n",
    "\"\"\""
   ]
  },
  {
   "cell_type": "code",
   "execution_count": null,
   "id": "80c29b0d-38c2-46c4-a02c-1f411ff17ab8",
   "metadata": {},
   "outputs": [],
   "source": [
    "#To add an additonal package, run the line below, remember to edit the environemt and package names:\n",
    "\n",
    "#!conda install -y --name my_new_environment PACKAGENAME\n",
    "\n",
    "# or if the package isn't avaiolable with conda, to use pip,run the following:\n",
    "#   !conda run --name my_new_environment pip install PACKAGENAME"
   ]
  },
  {
   "cell_type": "code",
   "execution_count": null,
   "id": "9bb98f91-030b-41cb-b1a2-81afb257fa9f",
   "metadata": {},
   "outputs": [],
   "source": []
  }
 ],
 "metadata": {
  "kernelspec": {
   "display_name": "Python 3 + Jaspy",
   "language": "python",
   "name": "jaspy"
  },
  "language_info": {
   "codemirror_mode": {
    "name": "ipython",
    "version": 3
   },
   "file_extension": ".py",
   "mimetype": "text/x-python",
   "name": "python",
   "nbconvert_exporter": "python",
   "pygments_lexer": "ipython3",
   "version": "3.8.12"
  }
 },
 "nbformat": 4,
 "nbformat_minor": 5
}
